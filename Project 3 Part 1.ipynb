{
 "cells": [
  {
   "cell_type": "code",
   "execution_count": 19,
   "id": "1cdf158c",
   "metadata": {},
   "outputs": [],
   "source": [
    "import numpy as np\n",
    "import pandas as pd\n",
    "from sqlalchemy import create_engine\n",
    "from sklearn.compose import make_column_selector"
   ]
  },
  {
   "cell_type": "code",
   "execution_count": 56,
   "id": "0ff542f1",
   "metadata": {},
   "outputs": [],
   "source": [
    "ratings = pd.read_csv('https://datasets.imdbws.com/title.ratings.tsv.gz')"
   ]
  },
  {
   "cell_type": "code",
   "execution_count": 7,
   "id": "08ad0361",
   "metadata": {},
   "outputs": [],
   "source": [
    "basics = pd.read_csv('https://datasets.imdbws.com/title.basics.tsv.gz', sep='\\t', low_memory=False)"
   ]
  },
  {
   "cell_type": "code",
   "execution_count": 8,
   "id": "68d58ff2",
   "metadata": {},
   "outputs": [],
   "source": [
    "akas = pd.read_csv('https://datasets.imdbws.com/title.akas.tsv.gz', sep='\\t', low_memory=False)"
   ]
  },
  {
   "cell_type": "code",
   "execution_count": 6,
   "id": "19007db6",
   "metadata": {},
   "outputs": [
    {
     "name": "stdout",
     "output_type": "stream",
     "text": [
      "<class 'pandas.core.frame.DataFrame'>\n",
      "RangeIndex: 1360168 entries, 0 to 1360167\n",
      "Data columns (total 1 columns):\n",
      " #   Column                         Non-Null Count    Dtype \n",
      "---  ------                         --------------    ----- \n",
      " 0   tconst\taverageRating\tnumVotes  1360168 non-null  object\n",
      "dtypes: object(1)\n",
      "memory usage: 10.4+ MB\n"
     ]
    }
   ],
   "source": [
    "ratings.info()"
   ]
  },
  {
   "cell_type": "code",
   "execution_count": 9,
   "id": "662429e1",
   "metadata": {},
   "outputs": [
    {
     "name": "stdout",
     "output_type": "stream",
     "text": [
      "<class 'pandas.core.frame.DataFrame'>\n",
      "RangeIndex: 10246265 entries, 0 to 10246264\n",
      "Data columns (total 9 columns):\n",
      " #   Column          Dtype \n",
      "---  ------          ----- \n",
      " 0   tconst          object\n",
      " 1   titleType       object\n",
      " 2   primaryTitle    object\n",
      " 3   originalTitle   object\n",
      " 4   isAdult         object\n",
      " 5   startYear       object\n",
      " 6   endYear         object\n",
      " 7   runtimeMinutes  object\n",
      " 8   genres          object\n",
      "dtypes: object(9)\n",
      "memory usage: 703.6+ MB\n"
     ]
    }
   ],
   "source": [
    "basics.info()"
   ]
  },
  {
   "cell_type": "code",
   "execution_count": 10,
   "id": "033218d2",
   "metadata": {},
   "outputs": [
    {
     "name": "stdout",
     "output_type": "stream",
     "text": [
      "<class 'pandas.core.frame.DataFrame'>\n",
      "RangeIndex: 37517220 entries, 0 to 37517219\n",
      "Data columns (total 8 columns):\n",
      " #   Column           Dtype \n",
      "---  ------           ----- \n",
      " 0   titleId          object\n",
      " 1   ordering         int64 \n",
      " 2   title            object\n",
      " 3   region           object\n",
      " 4   language         object\n",
      " 5   types            object\n",
      " 6   attributes       object\n",
      " 7   isOriginalTitle  object\n",
      "dtypes: int64(1), object(7)\n",
      "memory usage: 2.2+ GB\n"
     ]
    }
   ],
   "source": [
    "akas.info()"
   ]
  },
  {
   "cell_type": "code",
   "execution_count": 48,
   "id": "9df80013",
   "metadata": {},
   "outputs": [],
   "source": [
    "#BASIC\n",
    "basics.replace({'\\\\N':np.nan}, inplace =True)"
   ]
  },
  {
   "cell_type": "code",
   "execution_count": 15,
   "id": "9aff0955",
   "metadata": {},
   "outputs": [],
   "source": [
    "basics.dropna(subset=['runtimeMinutes'], inplace = True)"
   ]
  },
  {
   "cell_type": "code",
   "execution_count": 17,
   "id": "3cf82e04",
   "metadata": {},
   "outputs": [],
   "source": [
    "basics.dropna(subset=['genres'], inplace = True)"
   ]
  },
  {
   "cell_type": "code",
   "execution_count": 20,
   "id": "4e52a691",
   "metadata": {},
   "outputs": [
    {
     "name": "stdout",
     "output_type": "stream",
     "text": [
      "Value Counts for tconst\n",
      "tt0000001     9.759671e-08\n",
      "tt28379155    9.759671e-08\n",
      "tt28379149    9.759671e-08\n",
      "tt2837914     9.759671e-08\n",
      "tt28379150    9.759671e-08\n",
      "                  ...     \n",
      "tt14478062    9.759671e-08\n",
      "tt14478066    9.759671e-08\n",
      "tt14478068    9.759671e-08\n",
      "tt1447806     9.759671e-08\n",
      "tt9916880     9.759671e-08\n",
      "Name: tconst, Length: 10246247, dtype: float64\n",
      "\n",
      "\n",
      "Value Counts for titleType\n",
      "tvEpisode       7.624369e-01\n",
      "short           9.342006e-02\n",
      "movie           6.443354e-02\n",
      "video           2.748958e-02\n",
      "tvSeries        2.447960e-02\n",
      "tvMovie         1.397936e-02\n",
      "tvMiniSeries    4.962207e-03\n",
      "tvSpecial       4.282348e-03\n",
      "videoGame       3.536319e-03\n",
      "tvShort         9.799686e-04\n",
      "tvPilot         9.759671e-08\n",
      "Name: titleType, dtype: float64\n",
      "\n",
      "\n",
      "Value Counts for primaryTitle\n",
      "Episode #1.1                 4.827236e-03\n",
      "Episode #1.2                 4.360626e-03\n",
      "Episode #1.3                 4.129126e-03\n",
      "Episode #1.4                 3.822867e-03\n",
      "Episode #1.5                 3.499919e-03\n",
      "                                 ...     \n",
      "Kobe Cash shows off          9.759682e-08\n",
      "Procesna oprema              9.759682e-08\n",
      "Fatal mégot                  9.759682e-08\n",
      "Local Spirits                9.759682e-08\n",
      "Horrid Henry Knows It All    9.759682e-08\n",
      "Name: primaryTitle, Length: 4609754, dtype: float64\n",
      "\n",
      "\n",
      "Value Counts for originalTitle\n",
      "Episode #1.1                  4.827236e-03\n",
      "Episode #1.2                  4.360626e-03\n",
      "Episode #1.3                  4.129126e-03\n",
      "Episode #1.4                  3.822867e-03\n",
      "Episode #1.5                  3.499919e-03\n",
      "                                  ...     \n",
      "Qu'est-ce qu'un marché?       9.759682e-08\n",
      "Tschechischer Glückskuchen    9.759682e-08\n",
      "Rather Not Say                9.759682e-08\n",
      "Moresdale Marauders           9.759682e-08\n",
      "Horrid Henry Knows It All     9.759682e-08\n",
      "Name: originalTitle, Length: 4632406, dtype: float64\n",
      "\n",
      "\n",
      "Value Counts for isAdult\n",
      "0    0.968452\n",
      "1    0.031548\n",
      "Name: isAdult, dtype: float64\n",
      "\n",
      "\n",
      "Value Counts for startYear\n",
      "\\N      1.336830e-01\n",
      "2021    4.577510e-02\n",
      "2018    4.283432e-02\n",
      "2022    4.240450e-02\n",
      "2017    4.237522e-02\n",
      "            ...     \n",
      "1889    1.951934e-07\n",
      "1874    9.759671e-08\n",
      "1883    9.759671e-08\n",
      "2031    9.759671e-08\n",
      "1885    9.759671e-08\n",
      "Name: startYear, Length: 153, dtype: float64\n",
      "\n",
      "\n",
      "Value Counts for endYear\n",
      "\\N      9.888908e-01\n",
      "2018    6.392585e-04\n",
      "2019    6.390633e-04\n",
      "2017    6.388681e-04\n",
      "2020    6.150545e-04\n",
      "            ...     \n",
      "1944    9.759671e-08\n",
      "2028    9.759671e-08\n",
      "1906    9.759671e-08\n",
      "1941    9.759671e-08\n",
      "2030    9.759671e-08\n",
      "Name: endYear, Length: 96, dtype: float64\n",
      "\n",
      "\n",
      "Value Counts for runtimeMinutes\n",
      "\\N      6.984298e-01\n",
      "30      2.506820e-02\n",
      "60      1.889345e-02\n",
      "22      1.645061e-02\n",
      "15      8.362281e-03\n",
      "            ...     \n",
      "1134    9.759671e-08\n",
      "776     9.759671e-08\n",
      "1873    9.759671e-08\n",
      "577     9.759671e-08\n",
      "2088    9.759671e-08\n",
      "Name: runtimeMinutes, Length: 891, dtype: float64\n",
      "\n",
      "\n",
      "Value Counts for genres\n",
      "Drama                          1.144430e-01\n",
      "Comedy                         6.797484e-02\n",
      "Talk-Show                      6.219907e-02\n",
      "Drama,Romance                  4.792116e-02\n",
      "News                           4.778374e-02\n",
      "                                   ...     \n",
      "Comedy,History,Thriller        9.759671e-08\n",
      "Crime,Sci-Fi,War               9.759671e-08\n",
      "Adult,Sport,War                9.759671e-08\n",
      "Crime,Musical,War              9.759671e-08\n",
      "Adventure,Biography,Musical    9.759671e-08\n",
      "Name: genres, Length: 2352, dtype: float64\n",
      "\n",
      "\n"
     ]
    }
   ],
   "source": [
    "cat_cols = make_column_selector(dtype_include='object')(basics)\n",
    "for col in cat_cols:\n",
    "  print(f'Value Counts for {col}')\n",
    "  print(basics[col].value_counts(normalize=True))\n",
    "  print('\\n')"
   ]
  },
  {
   "cell_type": "code",
   "execution_count": 27,
   "id": "0884f7d9",
   "metadata": {},
   "outputs": [],
   "source": [
    "basics=basics.query(\"titleType == 'movie'\")"
   ]
  },
  {
   "cell_type": "code",
   "execution_count": 99,
   "id": "985637f3",
   "metadata": {},
   "outputs": [],
   "source": [
    "basics = basics.drop(basics[basics['startYear'] < '2000'].index)"
   ]
  },
  {
   "cell_type": "code",
   "execution_count": 101,
   "id": "9267f6ce",
   "metadata": {},
   "outputs": [],
   "source": [
    "basics = basics.drop(basics[basics['startYear'] > '2021'].index)"
   ]
  },
  {
   "cell_type": "code",
   "execution_count": 84,
   "id": "6c7b8ba0",
   "metadata": {},
   "outputs": [],
   "source": [
    "basics = basics.drop(basics[basics['genres'] == 'Documentary'].index)"
   ]
  },
  {
   "cell_type": "code",
   "execution_count": 100,
   "id": "cbee6e5b",
   "metadata": {},
   "outputs": [
    {
     "data": {
      "text/html": [
       "<div>\n",
       "<style scoped>\n",
       "    .dataframe tbody tr th:only-of-type {\n",
       "        vertical-align: middle;\n",
       "    }\n",
       "\n",
       "    .dataframe tbody tr th {\n",
       "        vertical-align: top;\n",
       "    }\n",
       "\n",
       "    .dataframe thead th {\n",
       "        text-align: right;\n",
       "    }\n",
       "</style>\n",
       "<table border=\"1\" class=\"dataframe\">\n",
       "  <thead>\n",
       "    <tr style=\"text-align: right;\">\n",
       "      <th></th>\n",
       "      <th>tconst</th>\n",
       "      <th>titleType</th>\n",
       "      <th>primaryTitle</th>\n",
       "      <th>originalTitle</th>\n",
       "      <th>isAdult</th>\n",
       "      <th>startYear</th>\n",
       "      <th>endYear</th>\n",
       "      <th>runtimeMinutes</th>\n",
       "      <th>genres</th>\n",
       "    </tr>\n",
       "  </thead>\n",
       "  <tbody>\n",
       "    <tr>\n",
       "      <th>34800</th>\n",
       "      <td>tt0035423</td>\n",
       "      <td>movie</td>\n",
       "      <td>Kate &amp; Leopold</td>\n",
       "      <td>Kate &amp; Leopold</td>\n",
       "      <td>0</td>\n",
       "      <td>2001</td>\n",
       "      <td>NaN</td>\n",
       "      <td>118</td>\n",
       "      <td>Comedy,Fantasy,Romance</td>\n",
       "    </tr>\n",
       "    <tr>\n",
       "      <th>61111</th>\n",
       "      <td>tt0062336</td>\n",
       "      <td>movie</td>\n",
       "      <td>The Tango of the Widower and Its Distorting Mi...</td>\n",
       "      <td>El tango del viudo y su espejo deformante</td>\n",
       "      <td>0</td>\n",
       "      <td>2020</td>\n",
       "      <td>NaN</td>\n",
       "      <td>70</td>\n",
       "      <td>Drama</td>\n",
       "    </tr>\n",
       "    <tr>\n",
       "      <th>67485</th>\n",
       "      <td>tt0068865</td>\n",
       "      <td>movie</td>\n",
       "      <td>Lives of Performers</td>\n",
       "      <td>Lives of Performers</td>\n",
       "      <td>0</td>\n",
       "      <td>2016</td>\n",
       "      <td>NaN</td>\n",
       "      <td>90</td>\n",
       "      <td>Drama</td>\n",
       "    </tr>\n",
       "    <tr>\n",
       "      <th>67663</th>\n",
       "      <td>tt0069049</td>\n",
       "      <td>movie</td>\n",
       "      <td>The Other Side of the Wind</td>\n",
       "      <td>The Other Side of the Wind</td>\n",
       "      <td>0</td>\n",
       "      <td>2018</td>\n",
       "      <td>NaN</td>\n",
       "      <td>122</td>\n",
       "      <td>Drama</td>\n",
       "    </tr>\n",
       "    <tr>\n",
       "      <th>69150</th>\n",
       "      <td>tt0070596</td>\n",
       "      <td>movie</td>\n",
       "      <td>Socialist Realism</td>\n",
       "      <td>El realismo socialista</td>\n",
       "      <td>0</td>\n",
       "      <td>2023</td>\n",
       "      <td>NaN</td>\n",
       "      <td>78</td>\n",
       "      <td>Drama</td>\n",
       "    </tr>\n",
       "  </tbody>\n",
       "</table>\n",
       "</div>"
      ],
      "text/plain": [
       "          tconst titleType                                       primaryTitle  \\\n",
       "34800  tt0035423     movie                                     Kate & Leopold   \n",
       "61111  tt0062336     movie  The Tango of the Widower and Its Distorting Mi...   \n",
       "67485  tt0068865     movie                                Lives of Performers   \n",
       "67663  tt0069049     movie                         The Other Side of the Wind   \n",
       "69150  tt0070596     movie                                  Socialist Realism   \n",
       "\n",
       "                                   originalTitle isAdult startYear  endYear  \\\n",
       "34800                             Kate & Leopold       0      2001      NaN   \n",
       "61111  El tango del viudo y su espejo deformante       0      2020      NaN   \n",
       "67485                        Lives of Performers       0      2016      NaN   \n",
       "67663                 The Other Side of the Wind       0      2018      NaN   \n",
       "69150                     El realismo socialista       0      2023      NaN   \n",
       "\n",
       "      runtimeMinutes                  genres  \n",
       "34800            118  Comedy,Fantasy,Romance  \n",
       "61111             70                   Drama  \n",
       "67485             90                   Drama  \n",
       "67663            122                   Drama  \n",
       "69150             78                   Drama  "
      ]
     },
     "execution_count": 100,
     "metadata": {},
     "output_type": "execute_result"
    }
   ],
   "source": [
    "basics.head()"
   ]
  },
  {
   "cell_type": "code",
   "execution_count": 86,
   "id": "ce11092c",
   "metadata": {},
   "outputs": [
    {
     "data": {
      "text/html": [
       "<div>\n",
       "<style scoped>\n",
       "    .dataframe tbody tr th:only-of-type {\n",
       "        vertical-align: middle;\n",
       "    }\n",
       "\n",
       "    .dataframe tbody tr th {\n",
       "        vertical-align: top;\n",
       "    }\n",
       "\n",
       "    .dataframe thead th {\n",
       "        text-align: right;\n",
       "    }\n",
       "</style>\n",
       "<table border=\"1\" class=\"dataframe\">\n",
       "  <thead>\n",
       "    <tr style=\"text-align: right;\">\n",
       "      <th></th>\n",
       "      <th>titleId</th>\n",
       "      <th>ordering</th>\n",
       "      <th>title</th>\n",
       "      <th>region</th>\n",
       "      <th>language</th>\n",
       "      <th>types</th>\n",
       "      <th>attributes</th>\n",
       "      <th>isOriginalTitle</th>\n",
       "    </tr>\n",
       "  </thead>\n",
       "  <tbody>\n",
       "    <tr>\n",
       "      <th>5</th>\n",
       "      <td>tt0000001</td>\n",
       "      <td>6</td>\n",
       "      <td>Carmencita</td>\n",
       "      <td>US</td>\n",
       "      <td>NaN</td>\n",
       "      <td>imdbDisplay</td>\n",
       "      <td>NaN</td>\n",
       "      <td>0</td>\n",
       "    </tr>\n",
       "    <tr>\n",
       "      <th>14</th>\n",
       "      <td>tt0000002</td>\n",
       "      <td>7</td>\n",
       "      <td>The Clown and His Dogs</td>\n",
       "      <td>US</td>\n",
       "      <td>NaN</td>\n",
       "      <td>NaN</td>\n",
       "      <td>literal English title</td>\n",
       "      <td>0</td>\n",
       "    </tr>\n",
       "    <tr>\n",
       "      <th>33</th>\n",
       "      <td>tt0000005</td>\n",
       "      <td>10</td>\n",
       "      <td>Blacksmith Scene</td>\n",
       "      <td>US</td>\n",
       "      <td>NaN</td>\n",
       "      <td>imdbDisplay</td>\n",
       "      <td>NaN</td>\n",
       "      <td>0</td>\n",
       "    </tr>\n",
       "    <tr>\n",
       "      <th>36</th>\n",
       "      <td>tt0000005</td>\n",
       "      <td>1</td>\n",
       "      <td>Blacksmithing Scene</td>\n",
       "      <td>US</td>\n",
       "      <td>NaN</td>\n",
       "      <td>alternative</td>\n",
       "      <td>NaN</td>\n",
       "      <td>0</td>\n",
       "    </tr>\n",
       "    <tr>\n",
       "      <th>41</th>\n",
       "      <td>tt0000005</td>\n",
       "      <td>6</td>\n",
       "      <td>Blacksmith Scene #1</td>\n",
       "      <td>US</td>\n",
       "      <td>NaN</td>\n",
       "      <td>alternative</td>\n",
       "      <td>NaN</td>\n",
       "      <td>0</td>\n",
       "    </tr>\n",
       "  </tbody>\n",
       "</table>\n",
       "</div>"
      ],
      "text/plain": [
       "      titleId  ordering                   title region language        types  \\\n",
       "5   tt0000001         6              Carmencita     US      NaN  imdbDisplay   \n",
       "14  tt0000002         7  The Clown and His Dogs     US      NaN          NaN   \n",
       "33  tt0000005        10        Blacksmith Scene     US      NaN  imdbDisplay   \n",
       "36  tt0000005         1     Blacksmithing Scene     US      NaN  alternative   \n",
       "41  tt0000005         6     Blacksmith Scene #1     US      NaN  alternative   \n",
       "\n",
       "               attributes isOriginalTitle  \n",
       "5                     NaN               0  \n",
       "14  literal English title               0  \n",
       "33                    NaN               0  \n",
       "36                    NaN               0  \n",
       "41                    NaN               0  "
      ]
     },
     "execution_count": 86,
     "metadata": {},
     "output_type": "execute_result"
    }
   ],
   "source": [
    "akas.head()"
   ]
  },
  {
   "cell_type": "code",
   "execution_count": 51,
   "id": "01091aed",
   "metadata": {},
   "outputs": [],
   "source": [
    "#AKAS\n",
    "akas.replace({'\\\\N':np.nan}, inplace =True)"
   ]
  },
  {
   "cell_type": "code",
   "execution_count": 52,
   "id": "ce60dbdd",
   "metadata": {},
   "outputs": [],
   "source": [
    "akas=akas.query(\"region == 'US'\")"
   ]
  },
  {
   "cell_type": "code",
   "execution_count": 53,
   "id": "e6571670",
   "metadata": {},
   "outputs": [
    {
     "data": {
      "text/html": [
       "<div>\n",
       "<style scoped>\n",
       "    .dataframe tbody tr th:only-of-type {\n",
       "        vertical-align: middle;\n",
       "    }\n",
       "\n",
       "    .dataframe tbody tr th {\n",
       "        vertical-align: top;\n",
       "    }\n",
       "\n",
       "    .dataframe thead th {\n",
       "        text-align: right;\n",
       "    }\n",
       "</style>\n",
       "<table border=\"1\" class=\"dataframe\">\n",
       "  <thead>\n",
       "    <tr style=\"text-align: right;\">\n",
       "      <th></th>\n",
       "      <th>titleId</th>\n",
       "      <th>ordering</th>\n",
       "      <th>title</th>\n",
       "      <th>region</th>\n",
       "      <th>language</th>\n",
       "      <th>types</th>\n",
       "      <th>attributes</th>\n",
       "      <th>isOriginalTitle</th>\n",
       "    </tr>\n",
       "  </thead>\n",
       "  <tbody>\n",
       "    <tr>\n",
       "      <th>5</th>\n",
       "      <td>tt0000001</td>\n",
       "      <td>6</td>\n",
       "      <td>Carmencita</td>\n",
       "      <td>US</td>\n",
       "      <td>NaN</td>\n",
       "      <td>imdbDisplay</td>\n",
       "      <td>NaN</td>\n",
       "      <td>0</td>\n",
       "    </tr>\n",
       "    <tr>\n",
       "      <th>14</th>\n",
       "      <td>tt0000002</td>\n",
       "      <td>7</td>\n",
       "      <td>The Clown and His Dogs</td>\n",
       "      <td>US</td>\n",
       "      <td>NaN</td>\n",
       "      <td>NaN</td>\n",
       "      <td>literal English title</td>\n",
       "      <td>0</td>\n",
       "    </tr>\n",
       "    <tr>\n",
       "      <th>33</th>\n",
       "      <td>tt0000005</td>\n",
       "      <td>10</td>\n",
       "      <td>Blacksmith Scene</td>\n",
       "      <td>US</td>\n",
       "      <td>NaN</td>\n",
       "      <td>imdbDisplay</td>\n",
       "      <td>NaN</td>\n",
       "      <td>0</td>\n",
       "    </tr>\n",
       "    <tr>\n",
       "      <th>36</th>\n",
       "      <td>tt0000005</td>\n",
       "      <td>1</td>\n",
       "      <td>Blacksmithing Scene</td>\n",
       "      <td>US</td>\n",
       "      <td>NaN</td>\n",
       "      <td>alternative</td>\n",
       "      <td>NaN</td>\n",
       "      <td>0</td>\n",
       "    </tr>\n",
       "    <tr>\n",
       "      <th>41</th>\n",
       "      <td>tt0000005</td>\n",
       "      <td>6</td>\n",
       "      <td>Blacksmith Scene #1</td>\n",
       "      <td>US</td>\n",
       "      <td>NaN</td>\n",
       "      <td>alternative</td>\n",
       "      <td>NaN</td>\n",
       "      <td>0</td>\n",
       "    </tr>\n",
       "  </tbody>\n",
       "</table>\n",
       "</div>"
      ],
      "text/plain": [
       "      titleId  ordering                   title region language        types  \\\n",
       "5   tt0000001         6              Carmencita     US      NaN  imdbDisplay   \n",
       "14  tt0000002         7  The Clown and His Dogs     US      NaN          NaN   \n",
       "33  tt0000005        10        Blacksmith Scene     US      NaN  imdbDisplay   \n",
       "36  tt0000005         1     Blacksmithing Scene     US      NaN  alternative   \n",
       "41  tt0000005         6     Blacksmith Scene #1     US      NaN  alternative   \n",
       "\n",
       "               attributes isOriginalTitle  \n",
       "5                     NaN               0  \n",
       "14  literal English title               0  \n",
       "33                    NaN               0  \n",
       "36                    NaN               0  \n",
       "41                    NaN               0  "
      ]
     },
     "execution_count": 53,
     "metadata": {},
     "output_type": "execute_result"
    }
   ],
   "source": [
    "akas.head()"
   ]
  },
  {
   "cell_type": "code",
   "execution_count": 57,
   "id": "32ef6c3b",
   "metadata": {},
   "outputs": [
    {
     "data": {
      "text/html": [
       "<div>\n",
       "<style scoped>\n",
       "    .dataframe tbody tr th:only-of-type {\n",
       "        vertical-align: middle;\n",
       "    }\n",
       "\n",
       "    .dataframe tbody tr th {\n",
       "        vertical-align: top;\n",
       "    }\n",
       "\n",
       "    .dataframe thead th {\n",
       "        text-align: right;\n",
       "    }\n",
       "</style>\n",
       "<table border=\"1\" class=\"dataframe\">\n",
       "  <thead>\n",
       "    <tr style=\"text-align: right;\">\n",
       "      <th></th>\n",
       "      <th>tconst\\taverageRating\\tnumVotes</th>\n",
       "    </tr>\n",
       "  </thead>\n",
       "  <tbody>\n",
       "    <tr>\n",
       "      <th>0</th>\n",
       "      <td>tt0000001\\t5.7\\t2002</td>\n",
       "    </tr>\n",
       "    <tr>\n",
       "      <th>1</th>\n",
       "      <td>tt0000002\\t5.8\\t269</td>\n",
       "    </tr>\n",
       "    <tr>\n",
       "      <th>2</th>\n",
       "      <td>tt0000003\\t6.5\\t1893</td>\n",
       "    </tr>\n",
       "    <tr>\n",
       "      <th>3</th>\n",
       "      <td>tt0000004\\t5.5\\t178</td>\n",
       "    </tr>\n",
       "    <tr>\n",
       "      <th>4</th>\n",
       "      <td>tt0000005\\t6.2\\t2678</td>\n",
       "    </tr>\n",
       "  </tbody>\n",
       "</table>\n",
       "</div>"
      ],
      "text/plain": [
       "  tconst\\taverageRating\\tnumVotes\n",
       "0            tt0000001\\t5.7\\t2002\n",
       "1             tt0000002\\t5.8\\t269\n",
       "2            tt0000003\\t6.5\\t1893\n",
       "3             tt0000004\\t5.5\\t178\n",
       "4            tt0000005\\t6.2\\t2678"
      ]
     },
     "execution_count": 57,
     "metadata": {},
     "output_type": "execute_result"
    }
   ],
   "source": [
    "ratings.head()"
   ]
  },
  {
   "cell_type": "code",
   "execution_count": 58,
   "id": "e885d356",
   "metadata": {},
   "outputs": [],
   "source": [
    "#Ratings\n",
    "ratings.replace({'\\\\N':np.nan}, inplace =True)"
   ]
  },
  {
   "cell_type": "code",
   "execution_count": 105,
   "id": "a1976672",
   "metadata": {},
   "outputs": [
    {
     "data": {
      "text/plain": [
       "34800       True\n",
       "61111       True\n",
       "67485       True\n",
       "67663       True\n",
       "80548       True\n",
       "            ... \n",
       "10245946    True\n",
       "10245947    True\n",
       "10246031    True\n",
       "10246063    True\n",
       "10246155    True\n",
       "Name: tconst, Length: 166229, dtype: bool"
      ]
     },
     "execution_count": 105,
     "metadata": {},
     "output_type": "execute_result"
    }
   ],
   "source": [
    "# Filter one dataframe based on another\n",
    "keepers = basics['tconst'].isin(akas['titleId'])\n",
    "keepers"
   ]
  },
  {
   "cell_type": "code",
   "execution_count": 106,
   "id": "50059470",
   "metadata": {},
   "outputs": [],
   "source": [
    "basics = basics[keepers]"
   ]
  },
  {
   "cell_type": "code",
   "execution_count": 108,
   "id": "3cf61666",
   "metadata": {},
   "outputs": [
    {
     "name": "stdout",
     "output_type": "stream",
     "text": [
      "<class 'pandas.core.frame.DataFrame'>\n",
      "Int64Index: 166229 entries, 34800 to 10246155\n",
      "Data columns (total 9 columns):\n",
      " #   Column          Non-Null Count   Dtype  \n",
      "---  ------          --------------   -----  \n",
      " 0   tconst          166229 non-null  object \n",
      " 1   titleType       166229 non-null  object \n",
      " 2   primaryTitle    166229 non-null  object \n",
      " 3   originalTitle   166229 non-null  object \n",
      " 4   isAdult         166229 non-null  object \n",
      " 5   startYear       110769 non-null  object \n",
      " 6   endYear         0 non-null       float64\n",
      " 7   runtimeMinutes  99184 non-null   object \n",
      " 8   genres          161792 non-null  object \n",
      "dtypes: float64(1), object(8)\n",
      "memory usage: 12.7+ MB\n"
     ]
    }
   ],
   "source": [
    "basics.info()"
   ]
  },
  {
   "cell_type": "code",
   "execution_count": 109,
   "id": "3e133c8a",
   "metadata": {},
   "outputs": [
    {
     "name": "stdout",
     "output_type": "stream",
     "text": [
      "<class 'pandas.core.frame.DataFrame'>\n",
      "Int64Index: 1472163 entries, 5 to 37516964\n",
      "Data columns (total 8 columns):\n",
      " #   Column           Non-Null Count    Dtype \n",
      "---  ------           --------------    ----- \n",
      " 0   titleId          1472163 non-null  object\n",
      " 1   ordering         1472163 non-null  int64 \n",
      " 2   title            1472163 non-null  object\n",
      " 3   region           1472163 non-null  object\n",
      " 4   language         4168 non-null     object\n",
      " 5   types            984662 non-null   object\n",
      " 6   attributes       47623 non-null    object\n",
      " 7   isOriginalTitle  1470822 non-null  object\n",
      "dtypes: int64(1), object(7)\n",
      "memory usage: 101.1+ MB\n"
     ]
    }
   ],
   "source": [
    "akas.info()"
   ]
  },
  {
   "cell_type": "code",
   "execution_count": 64,
   "id": "d9f071af",
   "metadata": {},
   "outputs": [
    {
     "name": "stdout",
     "output_type": "stream",
     "text": [
      "<class 'pandas.core.frame.DataFrame'>\n",
      "RangeIndex: 1360168 entries, 0 to 1360167\n",
      "Data columns (total 1 columns):\n",
      " #   Column                         Non-Null Count    Dtype \n",
      "---  ------                         --------------    ----- \n",
      " 0   tconst\taverageRating\tnumVotes  1360168 non-null  object\n",
      "dtypes: object(1)\n",
      "memory usage: 10.4+ MB\n"
     ]
    }
   ],
   "source": [
    "ratings.info()"
   ]
  },
  {
   "cell_type": "code",
   "execution_count": 112,
   "id": "83bb745b",
   "metadata": {},
   "outputs": [],
   "source": [
    "compression_opts = dict(method='zip', archive_name='basics.csv')"
   ]
  },
  {
   "cell_type": "code",
   "execution_count": 113,
   "id": "70bddea6",
   "metadata": {},
   "outputs": [],
   "source": [
    "basics.to_csv(\"basics.csv\", index = False, compression=compression_opts)"
   ]
  },
  {
   "cell_type": "code",
   "execution_count": 114,
   "id": "b3ee2663",
   "metadata": {},
   "outputs": [],
   "source": [
    "compression_opts_akas = dict(method='zip', archive_name='akas.csv')"
   ]
  },
  {
   "cell_type": "code",
   "execution_count": 115,
   "id": "d1a82e74",
   "metadata": {},
   "outputs": [],
   "source": [
    "akas.to_csv(\"akas.csv\", index = False, compression=compression_opts_akas)"
   ]
  },
  {
   "cell_type": "code",
   "execution_count": 116,
   "id": "55b3cf80",
   "metadata": {},
   "outputs": [],
   "source": [
    "compression_opts_ratings = dict(method='zip', archive_name='ratings.csv')"
   ]
  },
  {
   "cell_type": "code",
   "execution_count": 117,
   "id": "c5b846f3",
   "metadata": {},
   "outputs": [],
   "source": [
    "ratings.to_csv(\"ratings.csv\", index = False, compression=compression_opts_ratings)"
   ]
  }
 ],
 "metadata": {
  "kernelspec": {
   "display_name": "Python (dojo-env)",
   "language": "python",
   "name": "dojo-env"
  },
  "language_info": {
   "codemirror_mode": {
    "name": "ipython",
    "version": 3
   },
   "file_extension": ".py",
   "mimetype": "text/x-python",
   "name": "python",
   "nbconvert_exporter": "python",
   "pygments_lexer": "ipython3",
   "version": "3.11.4"
  }
 },
 "nbformat": 4,
 "nbformat_minor": 5
}
