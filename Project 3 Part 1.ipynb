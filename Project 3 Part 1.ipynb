{
 "cells": [
  {
   "cell_type": "code",
   "execution_count": 1,
   "id": "1cdf158c",
   "metadata": {},
   "outputs": [],
   "source": [
    "import numpy as np\n",
    "import pandas as pd\n",
    "from sqlalchemy import create_engine\n",
    "from sklearn.compose import make_column_selector"
   ]
  },
  {
   "cell_type": "code",
   "execution_count": 2,
   "id": "0ff542f1",
   "metadata": {},
   "outputs": [],
   "source": [
    "ratings = pd.read_csv('https://datasets.imdbws.com/title.ratings.tsv.gz')"
   ]
  },
  {
   "cell_type": "code",
   "execution_count": 3,
   "id": "08ad0361",
   "metadata": {},
   "outputs": [],
   "source": [
    "basics = pd.read_csv('https://datasets.imdbws.com/title.basics.tsv.gz', sep='\\t', low_memory=False)"
   ]
  },
  {
   "cell_type": "code",
   "execution_count": 4,
   "id": "68d58ff2",
   "metadata": {},
   "outputs": [],
   "source": [
    "akas = pd.read_csv('https://datasets.imdbws.com/title.akas.tsv.gz', sep='\\t', low_memory=False)"
   ]
  },
  {
   "cell_type": "code",
   "execution_count": 5,
   "id": "19007db6",
   "metadata": {},
   "outputs": [
    {
     "name": "stdout",
     "output_type": "stream",
     "text": [
      "<class 'pandas.core.frame.DataFrame'>\n",
      "RangeIndex: 1365868 entries, 0 to 1365867\n",
      "Data columns (total 1 columns):\n",
      " #   Column                         Non-Null Count    Dtype \n",
      "---  ------                         --------------    ----- \n",
      " 0   tconst\taverageRating\tnumVotes  1365868 non-null  object\n",
      "dtypes: object(1)\n",
      "memory usage: 10.4+ MB\n"
     ]
    }
   ],
   "source": [
    "ratings.info()"
   ]
  },
  {
   "cell_type": "code",
   "execution_count": 6,
   "id": "662429e1",
   "metadata": {},
   "outputs": [
    {
     "name": "stdout",
     "output_type": "stream",
     "text": [
      "<class 'pandas.core.frame.DataFrame'>\n",
      "RangeIndex: 10283018 entries, 0 to 10283017\n",
      "Data columns (total 9 columns):\n",
      " #   Column          Dtype \n",
      "---  ------          ----- \n",
      " 0   tconst          object\n",
      " 1   titleType       object\n",
      " 2   primaryTitle    object\n",
      " 3   originalTitle   object\n",
      " 4   isAdult         object\n",
      " 5   startYear       object\n",
      " 6   endYear         object\n",
      " 7   runtimeMinutes  object\n",
      " 8   genres          object\n",
      "dtypes: object(9)\n",
      "memory usage: 706.1+ MB\n"
     ]
    }
   ],
   "source": [
    "basics.info()"
   ]
  },
  {
   "cell_type": "code",
   "execution_count": 7,
   "id": "033218d2",
   "metadata": {},
   "outputs": [
    {
     "name": "stdout",
     "output_type": "stream",
     "text": [
      "<class 'pandas.core.frame.DataFrame'>\n",
      "RangeIndex: 37653553 entries, 0 to 37653552\n",
      "Data columns (total 8 columns):\n",
      " #   Column           Dtype \n",
      "---  ------           ----- \n",
      " 0   titleId          object\n",
      " 1   ordering         int64 \n",
      " 2   title            object\n",
      " 3   region           object\n",
      " 4   language         object\n",
      " 5   types            object\n",
      " 6   attributes       object\n",
      " 7   isOriginalTitle  object\n",
      "dtypes: int64(1), object(7)\n",
      "memory usage: 2.2+ GB\n"
     ]
    }
   ],
   "source": [
    "akas.info()"
   ]
  },
  {
   "cell_type": "code",
   "execution_count": 8,
   "id": "9df80013",
   "metadata": {},
   "outputs": [],
   "source": [
    "#BASIC\n",
    "basics.replace({'\\\\N':np.nan}, inplace =True)"
   ]
  },
  {
   "cell_type": "code",
   "execution_count": 9,
   "id": "9aff0955",
   "metadata": {},
   "outputs": [],
   "source": [
    "basics.dropna(subset=['runtimeMinutes'], inplace = True)"
   ]
  },
  {
   "cell_type": "code",
   "execution_count": 10,
   "id": "3cf82e04",
   "metadata": {},
   "outputs": [],
   "source": [
    "basics.dropna(subset=['genres'], inplace = True)"
   ]
  },
  {
   "cell_type": "code",
   "execution_count": 11,
   "id": "4e52a691",
   "metadata": {},
   "outputs": [
    {
     "name": "stdout",
     "output_type": "stream",
     "text": [
      "Value Counts for tconst\n",
      "tt0000001     3.314077e-07\n",
      "tt29083733    3.314077e-07\n",
      "tt29083722    3.314077e-07\n",
      "tt29083723    3.314077e-07\n",
      "tt29083724    3.314077e-07\n",
      "                  ...     \n",
      "tt13514774    3.314077e-07\n",
      "tt13514776    3.314077e-07\n",
      "tt13514778    3.314077e-07\n",
      "tt13514780    3.314077e-07\n",
      "tt9916880     3.314077e-07\n",
      "Name: tconst, Length: 3017431, dtype: float64\n",
      "\n",
      "\n",
      "Value Counts for titleType\n",
      "tvEpisode       0.526439\n",
      "short           0.205046\n",
      "movie           0.129811\n",
      "video           0.061685\n",
      "tvMovie         0.030828\n",
      "tvSeries        0.030709\n",
      "tvSpecial       0.006450\n",
      "tvMiniSeries    0.006016\n",
      "tvShort         0.002905\n",
      "videoGame       0.000113\n",
      "Name: titleType, dtype: float64\n",
      "\n",
      "\n",
      "Value Counts for primaryTitle\n",
      "Episode #1.1                   2.764604e-03\n",
      "Episode #1.2                   2.548858e-03\n",
      "Episode #1.3                   2.330791e-03\n",
      "Episode #1.4                   2.142883e-03\n",
      "Episode #1.5                   1.931114e-03\n",
      "                                   ...     \n",
      "Thomas Bursts on the Scene!    3.314079e-07\n",
      "Night Film                     3.314079e-07\n",
      "Apodimia                       3.314079e-07\n",
      "The Truth of Bancholeomon      3.314079e-07\n",
      "Horrid Henry Knows It All      3.314079e-07\n",
      "Name: primaryTitle, Length: 1876214, dtype: float64\n",
      "\n",
      "\n",
      "Value Counts for originalTitle\n",
      "Episode #1.1                         2.764604e-03\n",
      "Episode #1.2                         2.548858e-03\n",
      "Episode #1.3                         2.330791e-03\n",
      "Episode #1.4                         2.142883e-03\n",
      "Episode #1.5                         1.931114e-03\n",
      "                                         ...     \n",
      "Dai ni budô dono no shitô no maki    3.314079e-07\n",
      "Inide the NHL Bubble                 3.314079e-07\n",
      "Der kleine Held vom Hamsterfeld      3.314079e-07\n",
      "Animation Express 2                  3.314079e-07\n",
      "Horrid Henry Knows It All            3.314079e-07\n",
      "Name: originalTitle, Length: 1895860, dtype: float64\n",
      "\n",
      "\n",
      "Value Counts for isAdult\n",
      "0    0.960067\n",
      "1    0.039933\n",
      "Name: isAdult, dtype: float64\n",
      "\n",
      "\n",
      "Value Counts for startYear\n",
      "2017    4.847290e-02\n",
      "2018    4.793830e-02\n",
      "2016    4.618802e-02\n",
      "2019    4.454070e-02\n",
      "2015    4.423288e-02\n",
      "            ...     \n",
      "1889    7.076129e-07\n",
      "2028    3.538065e-07\n",
      "1874    3.538065e-07\n",
      "1883    3.538065e-07\n",
      "1885    3.538065e-07\n",
      "Name: startYear, Length: 150, dtype: float64\n",
      "\n",
      "\n",
      "Value Counts for endYear\n",
      "2018    0.046953\n",
      "2017    0.046915\n",
      "2020    0.045668\n",
      "2019    0.045631\n",
      "2021    0.042343\n",
      "          ...   \n",
      "1944    0.000019\n",
      "2028    0.000019\n",
      "1941    0.000019\n",
      "1938    0.000019\n",
      "1945    0.000019\n",
      "Name: endYear, Length: 91, dtype: float64\n",
      "\n",
      "\n",
      "Value Counts for runtimeMinutes\n",
      "30      8.326023e-02\n",
      "60      6.200672e-02\n",
      "22      5.426106e-02\n",
      "15      2.811962e-02\n",
      "44      2.518997e-02\n",
      "            ...     \n",
      "1873    3.314077e-07\n",
      "701     3.314077e-07\n",
      "493     3.314077e-07\n",
      "457     3.314077e-07\n",
      "2088    3.314077e-07\n",
      "Name: runtimeMinutes, Length: 911, dtype: float64\n",
      "\n",
      "\n",
      "Value Counts for genres\n",
      "Drama                      8.596286e-02\n",
      "Drama,Romance              6.549313e-02\n",
      "Documentary                6.068374e-02\n",
      "Comedy                     5.163399e-02\n",
      "Drama,Short                3.957638e-02\n",
      "                               ...     \n",
      "Drama,Game-Show,Short      3.314077e-07\n",
      "Talk-Show,War              3.314077e-07\n",
      "Action,Game-Show,News      3.314077e-07\n",
      "Biography,Music,Sport      3.314077e-07\n",
      "Drama,Horror,Reality-TV    3.314077e-07\n",
      "Name: genres, Length: 2222, dtype: float64\n",
      "\n",
      "\n"
     ]
    }
   ],
   "source": [
    "cat_cols = make_column_selector(dtype_include='object')(basics)\n",
    "for col in cat_cols:\n",
    "  print(f'Value Counts for {col}')\n",
    "  print(basics[col].value_counts(normalize=True))\n",
    "  print('\\n')"
   ]
  },
  {
   "cell_type": "code",
   "execution_count": 12,
   "id": "0884f7d9",
   "metadata": {},
   "outputs": [],
   "source": [
    "basics=basics.query(\"titleType == 'movie'\")"
   ]
  },
  {
   "cell_type": "code",
   "execution_count": 13,
   "id": "985637f3",
   "metadata": {},
   "outputs": [],
   "source": [
    "basics = basics.drop(basics[basics['startYear'] < '2000'].index)"
   ]
  },
  {
   "cell_type": "code",
   "execution_count": 14,
   "id": "9267f6ce",
   "metadata": {},
   "outputs": [],
   "source": [
    "basics = basics.drop(basics[basics['startYear'] > '2021'].index)"
   ]
  },
  {
   "cell_type": "code",
   "execution_count": 15,
   "id": "6c7b8ba0",
   "metadata": {},
   "outputs": [],
   "source": [
    "basics = basics.drop(basics[basics['genres'] == 'Documentary'].index)"
   ]
  },
  {
   "cell_type": "code",
   "execution_count": 16,
   "id": "cbee6e5b",
   "metadata": {},
   "outputs": [
    {
     "data": {
      "text/html": [
       "<div>\n",
       "<style scoped>\n",
       "    .dataframe tbody tr th:only-of-type {\n",
       "        vertical-align: middle;\n",
       "    }\n",
       "\n",
       "    .dataframe tbody tr th {\n",
       "        vertical-align: top;\n",
       "    }\n",
       "\n",
       "    .dataframe thead th {\n",
       "        text-align: right;\n",
       "    }\n",
       "</style>\n",
       "<table border=\"1\" class=\"dataframe\">\n",
       "  <thead>\n",
       "    <tr style=\"text-align: right;\">\n",
       "      <th></th>\n",
       "      <th>tconst</th>\n",
       "      <th>titleType</th>\n",
       "      <th>primaryTitle</th>\n",
       "      <th>originalTitle</th>\n",
       "      <th>isAdult</th>\n",
       "      <th>startYear</th>\n",
       "      <th>endYear</th>\n",
       "      <th>runtimeMinutes</th>\n",
       "      <th>genres</th>\n",
       "    </tr>\n",
       "  </thead>\n",
       "  <tbody>\n",
       "    <tr>\n",
       "      <th>34800</th>\n",
       "      <td>tt0035423</td>\n",
       "      <td>movie</td>\n",
       "      <td>Kate &amp; Leopold</td>\n",
       "      <td>Kate &amp; Leopold</td>\n",
       "      <td>0</td>\n",
       "      <td>2001</td>\n",
       "      <td>NaN</td>\n",
       "      <td>118</td>\n",
       "      <td>Comedy,Fantasy,Romance</td>\n",
       "    </tr>\n",
       "    <tr>\n",
       "      <th>61111</th>\n",
       "      <td>tt0062336</td>\n",
       "      <td>movie</td>\n",
       "      <td>The Tango of the Widower and Its Distorting Mi...</td>\n",
       "      <td>El tango del viudo y su espejo deformante</td>\n",
       "      <td>0</td>\n",
       "      <td>2020</td>\n",
       "      <td>NaN</td>\n",
       "      <td>70</td>\n",
       "      <td>Drama</td>\n",
       "    </tr>\n",
       "    <tr>\n",
       "      <th>67485</th>\n",
       "      <td>tt0068865</td>\n",
       "      <td>movie</td>\n",
       "      <td>Lives of Performers</td>\n",
       "      <td>Lives of Performers</td>\n",
       "      <td>0</td>\n",
       "      <td>2016</td>\n",
       "      <td>NaN</td>\n",
       "      <td>90</td>\n",
       "      <td>Drama</td>\n",
       "    </tr>\n",
       "    <tr>\n",
       "      <th>67663</th>\n",
       "      <td>tt0069049</td>\n",
       "      <td>movie</td>\n",
       "      <td>The Other Side of the Wind</td>\n",
       "      <td>The Other Side of the Wind</td>\n",
       "      <td>0</td>\n",
       "      <td>2018</td>\n",
       "      <td>NaN</td>\n",
       "      <td>122</td>\n",
       "      <td>Drama</td>\n",
       "    </tr>\n",
       "    <tr>\n",
       "      <th>80548</th>\n",
       "      <td>tt0082328</td>\n",
       "      <td>movie</td>\n",
       "      <td>Embodiment of Evil</td>\n",
       "      <td>Encarnação do Demônio</td>\n",
       "      <td>0</td>\n",
       "      <td>2008</td>\n",
       "      <td>NaN</td>\n",
       "      <td>94</td>\n",
       "      <td>Horror</td>\n",
       "    </tr>\n",
       "  </tbody>\n",
       "</table>\n",
       "</div>"
      ],
      "text/plain": [
       "          tconst titleType                                       primaryTitle  \\\n",
       "34800  tt0035423     movie                                     Kate & Leopold   \n",
       "61111  tt0062336     movie  The Tango of the Widower and Its Distorting Mi...   \n",
       "67485  tt0068865     movie                                Lives of Performers   \n",
       "67663  tt0069049     movie                         The Other Side of the Wind   \n",
       "80548  tt0082328     movie                                 Embodiment of Evil   \n",
       "\n",
       "                                   originalTitle isAdult startYear endYear  \\\n",
       "34800                             Kate & Leopold       0      2001     NaN   \n",
       "61111  El tango del viudo y su espejo deformante       0      2020     NaN   \n",
       "67485                        Lives of Performers       0      2016     NaN   \n",
       "67663                 The Other Side of the Wind       0      2018     NaN   \n",
       "80548                      Encarnação do Demônio       0      2008     NaN   \n",
       "\n",
       "      runtimeMinutes                  genres  \n",
       "34800            118  Comedy,Fantasy,Romance  \n",
       "61111             70                   Drama  \n",
       "67485             90                   Drama  \n",
       "67663            122                   Drama  \n",
       "80548             94                  Horror  "
      ]
     },
     "execution_count": 16,
     "metadata": {},
     "output_type": "execute_result"
    }
   ],
   "source": [
    "basics.head()"
   ]
  },
  {
   "cell_type": "code",
   "execution_count": 17,
   "id": "ce11092c",
   "metadata": {},
   "outputs": [
    {
     "data": {
      "text/html": [
       "<div>\n",
       "<style scoped>\n",
       "    .dataframe tbody tr th:only-of-type {\n",
       "        vertical-align: middle;\n",
       "    }\n",
       "\n",
       "    .dataframe tbody tr th {\n",
       "        vertical-align: top;\n",
       "    }\n",
       "\n",
       "    .dataframe thead th {\n",
       "        text-align: right;\n",
       "    }\n",
       "</style>\n",
       "<table border=\"1\" class=\"dataframe\">\n",
       "  <thead>\n",
       "    <tr style=\"text-align: right;\">\n",
       "      <th></th>\n",
       "      <th>titleId</th>\n",
       "      <th>ordering</th>\n",
       "      <th>title</th>\n",
       "      <th>region</th>\n",
       "      <th>language</th>\n",
       "      <th>types</th>\n",
       "      <th>attributes</th>\n",
       "      <th>isOriginalTitle</th>\n",
       "    </tr>\n",
       "  </thead>\n",
       "  <tbody>\n",
       "    <tr>\n",
       "      <th>0</th>\n",
       "      <td>tt0000001</td>\n",
       "      <td>1</td>\n",
       "      <td>Карменсіта</td>\n",
       "      <td>UA</td>\n",
       "      <td>\\N</td>\n",
       "      <td>imdbDisplay</td>\n",
       "      <td>\\N</td>\n",
       "      <td>0</td>\n",
       "    </tr>\n",
       "    <tr>\n",
       "      <th>1</th>\n",
       "      <td>tt0000001</td>\n",
       "      <td>2</td>\n",
       "      <td>Carmencita</td>\n",
       "      <td>DE</td>\n",
       "      <td>\\N</td>\n",
       "      <td>\\N</td>\n",
       "      <td>literal title</td>\n",
       "      <td>0</td>\n",
       "    </tr>\n",
       "    <tr>\n",
       "      <th>2</th>\n",
       "      <td>tt0000001</td>\n",
       "      <td>3</td>\n",
       "      <td>Carmencita - spanyol tánc</td>\n",
       "      <td>HU</td>\n",
       "      <td>\\N</td>\n",
       "      <td>imdbDisplay</td>\n",
       "      <td>\\N</td>\n",
       "      <td>0</td>\n",
       "    </tr>\n",
       "    <tr>\n",
       "      <th>3</th>\n",
       "      <td>tt0000001</td>\n",
       "      <td>4</td>\n",
       "      <td>Καρμενσίτα</td>\n",
       "      <td>GR</td>\n",
       "      <td>\\N</td>\n",
       "      <td>imdbDisplay</td>\n",
       "      <td>\\N</td>\n",
       "      <td>0</td>\n",
       "    </tr>\n",
       "    <tr>\n",
       "      <th>4</th>\n",
       "      <td>tt0000001</td>\n",
       "      <td>5</td>\n",
       "      <td>Карменсита</td>\n",
       "      <td>RU</td>\n",
       "      <td>\\N</td>\n",
       "      <td>imdbDisplay</td>\n",
       "      <td>\\N</td>\n",
       "      <td>0</td>\n",
       "    </tr>\n",
       "  </tbody>\n",
       "</table>\n",
       "</div>"
      ],
      "text/plain": [
       "     titleId  ordering                      title region language  \\\n",
       "0  tt0000001         1                 Карменсіта     UA       \\N   \n",
       "1  tt0000001         2                 Carmencita     DE       \\N   \n",
       "2  tt0000001         3  Carmencita - spanyol tánc     HU       \\N   \n",
       "3  tt0000001         4                 Καρμενσίτα     GR       \\N   \n",
       "4  tt0000001         5                 Карменсита     RU       \\N   \n",
       "\n",
       "         types     attributes isOriginalTitle  \n",
       "0  imdbDisplay             \\N               0  \n",
       "1           \\N  literal title               0  \n",
       "2  imdbDisplay             \\N               0  \n",
       "3  imdbDisplay             \\N               0  \n",
       "4  imdbDisplay             \\N               0  "
      ]
     },
     "execution_count": 17,
     "metadata": {},
     "output_type": "execute_result"
    }
   ],
   "source": [
    "akas.head()"
   ]
  },
  {
   "cell_type": "code",
   "execution_count": 18,
   "id": "01091aed",
   "metadata": {},
   "outputs": [],
   "source": [
    "#AKAS\n",
    "akas.replace({'\\\\N':np.nan}, inplace =True)"
   ]
  },
  {
   "cell_type": "code",
   "execution_count": 19,
   "id": "ce60dbdd",
   "metadata": {},
   "outputs": [],
   "source": [
    "akas=akas.query(\"region == 'US'\")"
   ]
  },
  {
   "cell_type": "code",
   "execution_count": 20,
   "id": "e6571670",
   "metadata": {},
   "outputs": [
    {
     "data": {
      "text/html": [
       "<div>\n",
       "<style scoped>\n",
       "    .dataframe tbody tr th:only-of-type {\n",
       "        vertical-align: middle;\n",
       "    }\n",
       "\n",
       "    .dataframe tbody tr th {\n",
       "        vertical-align: top;\n",
       "    }\n",
       "\n",
       "    .dataframe thead th {\n",
       "        text-align: right;\n",
       "    }\n",
       "</style>\n",
       "<table border=\"1\" class=\"dataframe\">\n",
       "  <thead>\n",
       "    <tr style=\"text-align: right;\">\n",
       "      <th></th>\n",
       "      <th>titleId</th>\n",
       "      <th>ordering</th>\n",
       "      <th>title</th>\n",
       "      <th>region</th>\n",
       "      <th>language</th>\n",
       "      <th>types</th>\n",
       "      <th>attributes</th>\n",
       "      <th>isOriginalTitle</th>\n",
       "    </tr>\n",
       "  </thead>\n",
       "  <tbody>\n",
       "    <tr>\n",
       "      <th>5</th>\n",
       "      <td>tt0000001</td>\n",
       "      <td>6</td>\n",
       "      <td>Carmencita</td>\n",
       "      <td>US</td>\n",
       "      <td>NaN</td>\n",
       "      <td>imdbDisplay</td>\n",
       "      <td>NaN</td>\n",
       "      <td>0</td>\n",
       "    </tr>\n",
       "    <tr>\n",
       "      <th>14</th>\n",
       "      <td>tt0000002</td>\n",
       "      <td>7</td>\n",
       "      <td>The Clown and His Dogs</td>\n",
       "      <td>US</td>\n",
       "      <td>NaN</td>\n",
       "      <td>NaN</td>\n",
       "      <td>literal English title</td>\n",
       "      <td>0</td>\n",
       "    </tr>\n",
       "    <tr>\n",
       "      <th>33</th>\n",
       "      <td>tt0000005</td>\n",
       "      <td>10</td>\n",
       "      <td>Blacksmith Scene</td>\n",
       "      <td>US</td>\n",
       "      <td>NaN</td>\n",
       "      <td>imdbDisplay</td>\n",
       "      <td>NaN</td>\n",
       "      <td>0</td>\n",
       "    </tr>\n",
       "    <tr>\n",
       "      <th>36</th>\n",
       "      <td>tt0000005</td>\n",
       "      <td>1</td>\n",
       "      <td>Blacksmithing Scene</td>\n",
       "      <td>US</td>\n",
       "      <td>NaN</td>\n",
       "      <td>alternative</td>\n",
       "      <td>NaN</td>\n",
       "      <td>0</td>\n",
       "    </tr>\n",
       "    <tr>\n",
       "      <th>41</th>\n",
       "      <td>tt0000005</td>\n",
       "      <td>6</td>\n",
       "      <td>Blacksmith Scene #1</td>\n",
       "      <td>US</td>\n",
       "      <td>NaN</td>\n",
       "      <td>alternative</td>\n",
       "      <td>NaN</td>\n",
       "      <td>0</td>\n",
       "    </tr>\n",
       "  </tbody>\n",
       "</table>\n",
       "</div>"
      ],
      "text/plain": [
       "      titleId  ordering                   title region language        types  \\\n",
       "5   tt0000001         6              Carmencita     US      NaN  imdbDisplay   \n",
       "14  tt0000002         7  The Clown and His Dogs     US      NaN          NaN   \n",
       "33  tt0000005        10        Blacksmith Scene     US      NaN  imdbDisplay   \n",
       "36  tt0000005         1     Blacksmithing Scene     US      NaN  alternative   \n",
       "41  tt0000005         6     Blacksmith Scene #1     US      NaN  alternative   \n",
       "\n",
       "               attributes isOriginalTitle  \n",
       "5                     NaN               0  \n",
       "14  literal English title               0  \n",
       "33                    NaN               0  \n",
       "36                    NaN               0  \n",
       "41                    NaN               0  "
      ]
     },
     "execution_count": 20,
     "metadata": {},
     "output_type": "execute_result"
    }
   ],
   "source": [
    "akas.head()"
   ]
  },
  {
   "cell_type": "code",
   "execution_count": 21,
   "id": "32ef6c3b",
   "metadata": {},
   "outputs": [
    {
     "data": {
      "text/html": [
       "<div>\n",
       "<style scoped>\n",
       "    .dataframe tbody tr th:only-of-type {\n",
       "        vertical-align: middle;\n",
       "    }\n",
       "\n",
       "    .dataframe tbody tr th {\n",
       "        vertical-align: top;\n",
       "    }\n",
       "\n",
       "    .dataframe thead th {\n",
       "        text-align: right;\n",
       "    }\n",
       "</style>\n",
       "<table border=\"1\" class=\"dataframe\">\n",
       "  <thead>\n",
       "    <tr style=\"text-align: right;\">\n",
       "      <th></th>\n",
       "      <th>tconst\\taverageRating\\tnumVotes</th>\n",
       "    </tr>\n",
       "  </thead>\n",
       "  <tbody>\n",
       "    <tr>\n",
       "      <th>0</th>\n",
       "      <td>tt0000001\\t5.7\\t2004</td>\n",
       "    </tr>\n",
       "    <tr>\n",
       "      <th>1</th>\n",
       "      <td>tt0000002\\t5.8\\t269</td>\n",
       "    </tr>\n",
       "    <tr>\n",
       "      <th>2</th>\n",
       "      <td>tt0000003\\t6.5\\t1902</td>\n",
       "    </tr>\n",
       "    <tr>\n",
       "      <th>3</th>\n",
       "      <td>tt0000004\\t5.5\\t178</td>\n",
       "    </tr>\n",
       "    <tr>\n",
       "      <th>4</th>\n",
       "      <td>tt0000005\\t6.2\\t2685</td>\n",
       "    </tr>\n",
       "  </tbody>\n",
       "</table>\n",
       "</div>"
      ],
      "text/plain": [
       "  tconst\\taverageRating\\tnumVotes\n",
       "0            tt0000001\\t5.7\\t2004\n",
       "1             tt0000002\\t5.8\\t269\n",
       "2            tt0000003\\t6.5\\t1902\n",
       "3             tt0000004\\t5.5\\t178\n",
       "4            tt0000005\\t6.2\\t2685"
      ]
     },
     "execution_count": 21,
     "metadata": {},
     "output_type": "execute_result"
    }
   ],
   "source": [
    "ratings.head()"
   ]
  },
  {
   "cell_type": "code",
   "execution_count": 22,
   "id": "e885d356",
   "metadata": {},
   "outputs": [],
   "source": [
    "#Ratings\n",
    "ratings.replace({'\\\\N':np.nan}, inplace =True)"
   ]
  },
  {
   "cell_type": "code",
   "execution_count": 23,
   "id": "a1976672",
   "metadata": {},
   "outputs": [
    {
     "data": {
      "text/plain": [
       "34800        True\n",
       "61111        True\n",
       "67485        True\n",
       "67663        True\n",
       "80548        True\n",
       "            ...  \n",
       "10282700     True\n",
       "10282739    False\n",
       "10282784     True\n",
       "10282868    False\n",
       "10282958    False\n",
       "Name: tconst, Length: 166980, dtype: bool"
      ]
     },
     "execution_count": 23,
     "metadata": {},
     "output_type": "execute_result"
    }
   ],
   "source": [
    "# Filter one dataframe based on another\n",
    "keepers = basics['tconst'].isin(akas['titleId'])\n",
    "keepers"
   ]
  },
  {
   "cell_type": "code",
   "execution_count": 24,
   "id": "50059470",
   "metadata": {},
   "outputs": [],
   "source": [
    "basics = basics[keepers]"
   ]
  },
  {
   "cell_type": "code",
   "execution_count": 25,
   "id": "3cf61666",
   "metadata": {},
   "outputs": [
    {
     "name": "stdout",
     "output_type": "stream",
     "text": [
      "<class 'pandas.core.frame.DataFrame'>\n",
      "Int64Index: 97694 entries, 34800 to 10282784\n",
      "Data columns (total 9 columns):\n",
      " #   Column          Non-Null Count  Dtype \n",
      "---  ------          --------------  ----- \n",
      " 0   tconst          97694 non-null  object\n",
      " 1   titleType       97694 non-null  object\n",
      " 2   primaryTitle    97694 non-null  object\n",
      " 3   originalTitle   97694 non-null  object\n",
      " 4   isAdult         97694 non-null  object\n",
      " 5   startYear       94657 non-null  object\n",
      " 6   endYear         0 non-null      object\n",
      " 7   runtimeMinutes  97694 non-null  object\n",
      " 8   genres          97694 non-null  object\n",
      "dtypes: object(9)\n",
      "memory usage: 7.5+ MB\n"
     ]
    }
   ],
   "source": [
    "basics.info()"
   ]
  },
  {
   "cell_type": "code",
   "execution_count": 26,
   "id": "3e133c8a",
   "metadata": {},
   "outputs": [
    {
     "name": "stdout",
     "output_type": "stream",
     "text": [
      "<class 'pandas.core.frame.DataFrame'>\n",
      "Int64Index: 1474948 entries, 5 to 37653297\n",
      "Data columns (total 8 columns):\n",
      " #   Column           Non-Null Count    Dtype \n",
      "---  ------           --------------    ----- \n",
      " 0   titleId          1474948 non-null  object\n",
      " 1   ordering         1474948 non-null  int64 \n",
      " 2   title            1474948 non-null  object\n",
      " 3   region           1474948 non-null  object\n",
      " 4   language         4193 non-null     object\n",
      " 5   types            985111 non-null   object\n",
      " 6   attributes       47682 non-null    object\n",
      " 7   isOriginalTitle  1473607 non-null  object\n",
      "dtypes: int64(1), object(7)\n",
      "memory usage: 101.3+ MB\n"
     ]
    }
   ],
   "source": [
    "akas.info()"
   ]
  },
  {
   "cell_type": "code",
   "execution_count": 27,
   "id": "d9f071af",
   "metadata": {},
   "outputs": [
    {
     "name": "stdout",
     "output_type": "stream",
     "text": [
      "<class 'pandas.core.frame.DataFrame'>\n",
      "RangeIndex: 1365868 entries, 0 to 1365867\n",
      "Data columns (total 1 columns):\n",
      " #   Column                         Non-Null Count    Dtype \n",
      "---  ------                         --------------    ----- \n",
      " 0   tconst\taverageRating\tnumVotes  1365868 non-null  object\n",
      "dtypes: object(1)\n",
      "memory usage: 10.4+ MB\n"
     ]
    }
   ],
   "source": [
    "ratings.info()"
   ]
  },
  {
   "cell_type": "code",
   "execution_count": 28,
   "id": "83bb745b",
   "metadata": {},
   "outputs": [],
   "source": [
    "compression_opts = dict(method='zip', archive_name='basics.csv')"
   ]
  },
  {
   "cell_type": "code",
   "execution_count": 29,
   "id": "70bddea6",
   "metadata": {},
   "outputs": [],
   "source": [
    "basics.to_csv(\"basics.csv\", index = False, compression=compression_opts)"
   ]
  },
  {
   "cell_type": "code",
   "execution_count": 30,
   "id": "b3ee2663",
   "metadata": {},
   "outputs": [],
   "source": [
    "compression_opts_akas = dict(method='zip', archive_name='akas.csv')"
   ]
  },
  {
   "cell_type": "code",
   "execution_count": 31,
   "id": "d1a82e74",
   "metadata": {},
   "outputs": [],
   "source": [
    "akas.to_csv(\"akas.csv\", index = False, compression=compression_opts_akas)"
   ]
  },
  {
   "cell_type": "code",
   "execution_count": 32,
   "id": "55b3cf80",
   "metadata": {},
   "outputs": [],
   "source": [
    "compression_opts_ratings = dict(method='zip', archive_name='ratings.csv')"
   ]
  },
  {
   "cell_type": "code",
   "execution_count": 33,
   "id": "c5b846f3",
   "metadata": {},
   "outputs": [],
   "source": [
    "ratings.to_csv(\"ratings.csv\", index = False, compression=compression_opts_ratings)"
   ]
  },
  {
   "cell_type": "code",
   "execution_count": null,
   "id": "79d3413d",
   "metadata": {},
   "outputs": [],
   "source": []
  }
 ],
 "metadata": {
  "kernelspec": {
   "display_name": "Python (dojo-env)",
   "language": "python",
   "name": "dojo-env"
  },
  "language_info": {
   "codemirror_mode": {
    "name": "ipython",
    "version": 3
   },
   "file_extension": ".py",
   "mimetype": "text/x-python",
   "name": "python",
   "nbconvert_exporter": "python",
   "pygments_lexer": "ipython3",
   "version": "3.11.4"
  }
 },
 "nbformat": 4,
 "nbformat_minor": 5
}
